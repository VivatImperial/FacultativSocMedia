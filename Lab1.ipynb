{
 "cells": [
  {
   "cell_type": "markdown",
   "id": "93b36b9d-93c6-4554-9522-9e024d50a470",
   "metadata": {},
   "source": [
    "# Лабораторная работа 1"
   ]
  },
  {
   "cell_type": "markdown",
   "id": "2719e2fc-27fd-4047-ad35-3d6f1bef031a",
   "metadata": {},
   "source": [
    "## Задание: \n",
    "\n",
    "1. Задать 3 буквы. Вывести букву, которая стоит дальше всех в алфавите\n",
    "2. Задать число от 1 до 12. Это будет номер месяца. Вывести какое время года включает даный месяц.\n",
    "3. Задать 3 числа. Вывести yes если все числа больше 10. Если условие не выполняется, то вывести числа в порядке убывания.\n",
    "4. Вывести квадрат всех четных чисел до 10.\n",
    "5. Задать список чисел. Вывести сумму всех чисел\n",
    "6. Задать небольшое предложение со знаками пунктуаций. Вывести номера позиций в тексте (номер символа), где находятся запятые ',' и точки '.'"
   ]
  },
  {
   "cell_type": "markdown",
   "id": "d78ea32b-8f04-4a14-89a6-cad7ee06ca16",
   "metadata": {},
   "source": [
    "### 1"
   ]
  },
  {
   "cell_type": "code",
   "execution_count": null,
   "id": "98b48a84-0044-43cd-bd94-99483ce5044e",
   "metadata": {},
   "outputs": [],
   "source": [
    "a, b, c = input(\"Введите 3 буквы без пробелов: \").lower()\n",
    "letters = sorted([a, b, c])\n",
    "print(letters[-1])"
   ]
  },
  {
   "cell_type": "markdown",
   "id": "b5922d5c-0ff0-44f0-a5db-2446506d7fdb",
   "metadata": {},
   "source": [
    "### 2"
   ]
  },
  {
   "cell_type": "code",
   "execution_count": null,
   "id": "6153ad12-0ec3-4d13-9bdc-d22eb2595986",
   "metadata": {},
   "outputs": [],
   "source": [
    "month = int(input(\"Введите номер месяца (1-12): \"))\n",
    "if 3 <= month <= 5:\n",
    "    print(\"Весна\")\n",
    "elif 6 <= month <= 8:\n",
    "    print(\"Лето\")\n",
    "elif 9 <= month <= 11:\n",
    "    print(\"Осень\")\n",
    "elif month == 12 or month == 1 or month == 2:\n",
    "    print(\"Зима\")\n",
    "else:\n",
    "    print(\"Ты дурак?\")"
   ]
  },
  {
   "cell_type": "markdown",
   "id": "4939edc1-2c28-48a2-b9e8-76b7e7972f19",
   "metadata": {},
   "source": [
    "### 3"
   ]
  },
  {
   "cell_type": "code",
   "execution_count": null,
   "id": "37fbc021-83e0-4a1b-ac73-c36c926516bd",
   "metadata": {},
   "outputs": [],
   "source": [
    "x, y, z = map(int, input(\"Введите 3 числа через пробел: \").split())\n",
    "if x > 10 and y > 10 and z > 10:\n",
    "    print(\"Да\")\n",
    "else:\n",
    "    numbers = sorted([x, y, z], reverse=True)\n",
    "    print(numbers[0], numbers[1], numbers[2])"
   ]
  },
  {
   "cell_type": "markdown",
   "id": "6c86de93-f97b-4ac5-b5a2-adb893fbbd8e",
   "metadata": {},
   "source": [
    "### 4"
   ]
  },
  {
   "cell_type": "code",
   "execution_count": null,
   "id": "b56e71d7-eeb7-46f4-a504-95e451ff88cc",
   "metadata": {},
   "outputs": [],
   "source": [
    "for i in range(2, 11, 2):\n",
    "    print(i**2)"
   ]
  },
  {
   "cell_type": "markdown",
   "id": "4ca816e6-68e3-475c-9b24-67080b433b88",
   "metadata": {},
   "source": [
    "### 5"
   ]
  },
  {
   "cell_type": "code",
   "execution_count": null,
   "id": "a4ca3fb4-ff2a-4c33-8cd0-642f52d45d5d",
   "metadata": {},
   "outputs": [],
   "source": [
    "numbers = list(map(int, input(\"Введите числа через пробел: \").split()))\n",
    "print(sum(numbers))"
   ]
  },
  {
   "cell_type": "markdown",
   "id": "c4f12d5f-fff5-4978-892f-7b347eaa69b8",
   "metadata": {},
   "source": [
    "### 6"
   ]
  },
  {
   "cell_type": "code",
   "execution_count": null,
   "id": "27a4439c-9df4-4ef1-b70c-7dd5740fca55",
   "metadata": {},
   "outputs": [],
   "source": []
  }
 ],
 "metadata": {
  "kernelspec": {
   "display_name": "Python 3 (ipykernel)",
   "language": "python",
   "name": "python3"
  },
  "language_info": {
   "codemirror_mode": {
    "name": "ipython",
    "version": 3
   },
   "file_extension": ".py",
   "mimetype": "text/x-python",
   "name": "python",
   "nbconvert_exporter": "python",
   "pygments_lexer": "ipython3",
   "version": "3.10.11"
  }
 },
 "nbformat": 4,
 "nbformat_minor": 5
}
