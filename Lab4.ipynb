{
 "cells": [
  {
   "cell_type": "markdown",
   "id": "f8017067-df0f-42cb-b672-6660a788ecb9",
   "metadata": {},
   "source": [
    "# Лабораторная 4 - предобработка текста"
   ]
  },
  {
   "cell_type": "code",
   "execution_count": 5,
   "id": "fce5620f-dc88-45b7-86a9-87b6fc1fd7a4",
   "metadata": {},
   "outputs": [],
   "source": [
    "import pandas as pd\n",
    "import numpy as np\n",
    "import nltk\n",
    "from nltk.tokenize import word_tokenize\n",
    "import pymorphy3\n",
    "from tqdm import tqdm \n",
    "from string import punctuation\n",
    "from sklearn.feature_extraction.text import TfidfVectorizer"
   ]
  },
  {
   "cell_type": "code",
   "execution_count": 6,
   "id": "1c675ce4-b7ee-4c3e-9b0f-c97d95f7011c",
   "metadata": {},
   "outputs": [
    {
     "data": {
      "text/html": [
       "<div>\n",
       "<style scoped>\n",
       "    .dataframe tbody tr th:only-of-type {\n",
       "        vertical-align: middle;\n",
       "    }\n",
       "\n",
       "    .dataframe tbody tr th {\n",
       "        vertical-align: top;\n",
       "    }\n",
       "\n",
       "    .dataframe thead th {\n",
       "        text-align: right;\n",
       "    }\n",
       "</style>\n",
       "<table border=\"1\" class=\"dataframe\">\n",
       "  <thead>\n",
       "    <tr style=\"text-align: right;\">\n",
       "      <th></th>\n",
       "      <th>data</th>\n",
       "      <th>text</th>\n",
       "      <th>likes</th>\n",
       "    </tr>\n",
       "    <tr>\n",
       "      <th>id_post</th>\n",
       "      <th></th>\n",
       "      <th></th>\n",
       "      <th></th>\n",
       "    </tr>\n",
       "  </thead>\n",
       "  <tbody>\n",
       "    <tr>\n",
       "      <th>480545</th>\n",
       "      <td>1713384533</td>\n",
       "      <td>ТЕЛЕГА: острополитическое\\n \\nhttps://t.me/myf...</td>\n",
       "      <td>117</td>\n",
       "    </tr>\n",
       "    <tr>\n",
       "      <th>480648</th>\n",
       "      <td>1713543900</td>\n",
       "      <td>- Павел\\n- Павел\\n- Доводилось ли вам бывать н...</td>\n",
       "      <td>63</td>\n",
       "    </tr>\n",
       "    <tr>\n",
       "      <th>480645</th>\n",
       "      <td>1713536700</td>\n",
       "      <td>У гея оптимиста сракотан всегда наполовину полон</td>\n",
       "      <td>236</td>\n",
       "    </tr>\n",
       "  </tbody>\n",
       "</table>\n",
       "</div>"
      ],
      "text/plain": [
       "               data                                               text  likes\n",
       "id_post                                                                      \n",
       "480545   1713384533  ТЕЛЕГА: острополитическое\\n \\nhttps://t.me/myf...    117\n",
       "480648   1713543900  - Павел\\n- Павел\\n- Доводилось ли вам бывать н...     63\n",
       "480645   1713536700   У гея оптимиста сракотан всегда наполовину полон    236"
      ]
     },
     "execution_count": 6,
     "metadata": {},
     "output_type": "execute_result"
    }
   ],
   "source": [
    "data = pd.read_csv('jumoresci_data.csv')\n",
    "data.index = data.id_post\n",
    "data = data.drop(columns = ['id_group', 'description', 'title', 'id_post', 'views', 'reposts'])\n",
    "data = data.dropna()\n",
    "data.head(3)"
   ]
  },
  {
   "cell_type": "markdown",
   "id": "86f2ea90-a561-4506-8abd-ffd00415a10b",
   "metadata": {},
   "source": [
    "для дальнейшей работы будет использовать лишь последние 3000 постов, чтобы изолировать влияние времени на данные"
   ]
  },
  {
   "cell_type": "code",
   "execution_count": 7,
   "id": "7f4edb4c-1111-4a77-893d-a9674bbc90f9",
   "metadata": {},
   "outputs": [],
   "source": [
    "data = data.head(3000)"
   ]
  },
  {
   "cell_type": "code",
   "execution_count": 8,
   "id": "22be3b9c-7e1a-45cc-8dd3-8b9d91c8f558",
   "metadata": {},
   "outputs": [
    {
     "name": "stderr",
     "output_type": "stream",
     "text": [
      "[nltk_data] Downloading package stopwords to\n",
      "[nltk_data]     C:\\Users\\vsevo\\AppData\\Roaming\\nltk_data...\n",
      "[nltk_data]   Package stopwords is already up-to-date!\n"
     ]
    }
   ],
   "source": [
    "punctuations = list(punctuation)\n",
    "nltk.download('stopwords')\n",
    "stopwords = nltk.corpus.stopwords.words('russian')\n",
    "morph = pymorphy3.MorphAnalyzer()"
   ]
  },
  {
   "cell_type": "code",
   "execution_count": 9,
   "id": "e8e56734-e32a-4bdc-86fe-269afb4956aa",
   "metadata": {},
   "outputs": [],
   "source": [
    "def preprocessing(text):\n",
    "    tokens = word_tokenize(text)\n",
    "    tokens_without_punct = [i for i in tokens if i not in punctuations]\n",
    "    low_tokens = [i.lower() for i in tokens_without_punct]\n",
    "    words_without_stop = [i for i in low_tokens if i not in stopwords]\n",
    "    lemms = [morph.parse(i)[0].normal_form for i in words_without_stop]\n",
    "    morphed_text = \" \".join(lemms)\n",
    "    return morphed_text"
   ]
  },
  {
   "cell_type": "code",
   "execution_count": 10,
   "id": "bb73b082-23f4-428b-8a87-b8585b2cf451",
   "metadata": {},
   "outputs": [
    {
     "name": "stderr",
     "output_type": "stream",
     "text": [
      "100%|████████████████████████████████████████████████████████████████████████████████████████████████████████████████████████████████████████████████| 3000/3000 [00:13<00:00, 216.53it/s]\n"
     ]
    }
   ],
   "source": [
    "preprocessed_texts = []\n",
    "\n",
    "for text in tqdm(data['text']):\n",
    "    preprocessed_texts.append(preprocessing(text))\n",
    "\n",
    "data['text_preprocessed'] = preprocessed_texts"
   ]
  },
  {
   "cell_type": "code",
   "execution_count": 12,
   "id": "b8ec5b0c-07a4-4ee9-874c-c2342820997e",
   "metadata": {},
   "outputs": [
    {
     "data": {
      "text/plain": [
       "id_post\n",
       "480545    телега острополитический https //t.me/myfavori...\n",
       "480648    павел павел доводиться бывать воля павел павел...\n",
       "480645              гей оптимист сракотан наполовину полный\n",
       "480642    изобрести новый ракета квантовый двигатель пос...\n",
       "480641    владелец квартира спрашивать квартирантка поче...\n",
       "Name: text_preprocessed, dtype: object"
      ]
     },
     "execution_count": 12,
     "metadata": {},
     "output_type": "execute_result"
    }
   ],
   "source": [
    "data['text_preprocessed'][:5]"
   ]
  },
  {
   "cell_type": "markdown",
   "id": "8dade72a-029c-4a2b-93fe-de7f86eb262e",
   "metadata": {},
   "source": [
    "Специфичные для датасета стоп слова будут выявлены на этапе векторизации в зависимости от их частоты"
   ]
  }
 ],
 "metadata": {
  "kernelspec": {
   "display_name": "Python 3 (ipykernel)",
   "language": "python",
   "name": "python3"
  },
  "language_info": {
   "codemirror_mode": {
    "name": "ipython",
    "version": 3
   },
   "file_extension": ".py",
   "mimetype": "text/x-python",
   "name": "python",
   "nbconvert_exporter": "python",
   "pygments_lexer": "ipython3",
   "version": "3.10.11"
  }
 },
 "nbformat": 4,
 "nbformat_minor": 5
}
