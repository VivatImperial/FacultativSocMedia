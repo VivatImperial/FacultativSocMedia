{
  "nbformat": 4,
  "nbformat_minor": 0,
  "metadata": {
    "colab": {
      "provenance": [],
      "collapsed_sections": [
        "_2DyrlRJTrNj",
        "jYob5NObVncq",
        "FvatOQcmVrby",
        "-qVkx4KNWvci",
        "DJntxeYFYCgE",
        "7uL9TjJXYWAb",
        "FHm7S99kaRfU",
        "H0OxrB2xadc7",
        "CgEs_V4Xb8xT",
        "3XXWhsmTg0IM"
      ]
    },
    "kernelspec": {
      "name": "python3",
      "display_name": "Python 3"
    },
    "language_info": {
      "name": "python"
    }
  },
  "cells": [
    {
      "cell_type": "markdown",
      "source": [
        "# Типы данных Python"
      ],
      "metadata": {
        "id": "_2DyrlRJTrNj"
      }
    },
    {
      "cell_type": "markdown",
      "source": [
        "## Числа"
      ],
      "metadata": {
        "id": "jYob5NObVncq"
      }
    },
    {
      "cell_type": "code",
      "source": [
        "a = 5\n",
        "b = 10.5\n",
        "\n",
        "#сложение\n",
        "print(a+b, ' сложение')\n",
        "\n",
        "#умножение\n",
        "print(a*b, ' умножение')\n",
        "\n",
        "#возведение в степень\n",
        "print(a**2, ' возведение в степень')\n",
        "\n",
        "#деление\n",
        "print(b/a, ' деление')\n",
        "\n",
        "#деление (целая часть)\n",
        "print(b//a, ' деление (целая часть)')\n",
        "\n",
        "#деление (дробная часть)\n",
        "print(b%a, ' деление (дробная часть)')"
      ],
      "metadata": {
        "colab": {
          "base_uri": "https://localhost:8080/"
        },
        "id": "sWZ-jym3Uiix",
        "outputId": "992eaf13-e3c2-4398-cae0-3415e0604a6f"
      },
      "execution_count": null,
      "outputs": [
        {
          "output_type": "stream",
          "name": "stdout",
          "text": [
            "15.5  сложение\n",
            "52.5  умножение\n",
            "25  возведение в степень\n",
            "2.1  деление\n",
            "2.0  деление (целая часть)\n",
            "0.5  деление (дробная часть)\n"
          ]
        }
      ]
    },
    {
      "cell_type": "markdown",
      "source": [
        "## Строки"
      ],
      "metadata": {
        "id": "FvatOQcmVrby"
      }
    },
    {
      "cell_type": "markdown",
      "source": [
        "Строки (string) — это последовательности символов"
      ],
      "metadata": {
        "id": "8umyZ6GKW55j"
      }
    },
    {
      "cell_type": "code",
      "source": [
        "first_str = 'кот'\n",
        "second_str = 'пес'\n",
        "\n",
        "#конкатенация строк\n",
        "some_string = first_str + 'о' + second_str\n",
        "print('конкатенация:', some_string)\n",
        "\n",
        "#длина строки\n",
        "length = len(some_string)\n",
        "print('длина строки:', length)\n",
        "\n",
        "#первый символ строки\n",
        "first_symbol = some_string[0]\n",
        "print('первый символ строки:', first_symbol)\n",
        "\n",
        "#последний символ строки\n",
        "last_symbol = some_string[-1]\n",
        "print('последний символ строки:', last_symbol)\n",
        "\n",
        "#срез строки с первого по третий символ\n",
        "cat_slice = some_string[0:3]\n",
        "print('срез строки:', cat_slice)"
      ],
      "metadata": {
        "colab": {
          "base_uri": "https://localhost:8080/"
        },
        "id": "fOLsuBaqVLTK",
        "outputId": "566d1313-c881-4596-f75f-a4c446959350"
      },
      "execution_count": null,
      "outputs": [
        {
          "output_type": "stream",
          "name": "stdout",
          "text": [
            "конкатенация: котопес\n",
            "длина строки: 7\n",
            "первый символ строки: к\n",
            "последний символ строки: с\n",
            "срез строки: кот\n"
          ]
        }
      ]
    },
    {
      "cell_type": "markdown",
      "source": [
        "## Списки"
      ],
      "metadata": {
        "id": "-qVkx4KNWvci"
      }
    },
    {
      "cell_type": "markdown",
      "source": [
        "Список (list) — это упорядоченная коллекция объектов. Списки могут иметь сколько угодно уровней вложенности и хранить неограниченное количество объектов. Кроме того, в одном списке могут одновременно храниться объекты разных типов."
      ],
      "metadata": {
        "id": "KyImlpIqW-bS"
      }
    },
    {
      "cell_type": "markdown",
      "source": [
        "Над списками можно производить те же операции, что и над строками:"
      ],
      "metadata": {
        "id": "tOp5tWssXiri"
      }
    },
    {
      "cell_type": "code",
      "source": [
        "some_list = ['к', 'о', 'т', 'о', 'п', 'е', 'с', 2]\n",
        "\n",
        "#первый символ списка\n",
        "first_list_symbol = some_list[0]\n",
        "print('первый символ списка:', first_list_symbol)"
      ],
      "metadata": {
        "colab": {
          "base_uri": "https://localhost:8080/"
        },
        "id": "4DyDg5UZWxUz",
        "outputId": "60aa30a8-7829-4729-9f05-6122d84c3867"
      },
      "execution_count": 3,
      "outputs": [
        {
          "output_type": "stream",
          "name": "stdout",
          "text": [
            "первый символ списка: к\n"
          ]
        }
      ]
    },
    {
      "cell_type": "code",
      "source": [
        "#методы списков\n",
        "\n",
        "#добавить новый элемент в конец списка\n",
        "some_list.append('!')\n",
        "print(some_list)\n",
        "\n",
        "#удалить элемент с индексом 7\n",
        "some_list.pop(7)\n",
        "print(some_list)\n",
        "\n",
        "#отсортировать элементы списка в порядке возрастания\n",
        "some_list.sort()\n",
        "print(some_list)"
      ],
      "metadata": {
        "colab": {
          "base_uri": "https://localhost:8080/"
        },
        "id": "iGkTH40uXK1B",
        "outputId": "5ca92f86-fbce-4556-f377-bed5fdc8d71b"
      },
      "execution_count": 4,
      "outputs": [
        {
          "output_type": "stream",
          "name": "stdout",
          "text": [
            "['к', 'о', 'т', 'о', 'п', 'е', 'с', 2, '!']\n",
            "['к', 'о', 'т', 'о', 'п', 'е', 'с', '!']\n",
            "['!', 'е', 'к', 'о', 'о', 'п', 'с', 'т']\n"
          ]
        }
      ]
    },
    {
      "cell_type": "markdown",
      "source": [
        "## Также есть словари и кортеджи"
      ],
      "metadata": {
        "id": "DJntxeYFYCgE"
      }
    },
    {
      "cell_type": "code",
      "source": [],
      "metadata": {
        "id": "ssO67rqFYGwy"
      },
      "execution_count": null,
      "outputs": []
    },
    {
      "cell_type": "markdown",
      "source": [
        "# Условия в Python"
      ],
      "metadata": {
        "id": "7uL9TjJXYWAb"
      }
    },
    {
      "cell_type": "code",
      "source": [
        "a = 1\n",
        "b = 5\n",
        "c = 6"
      ],
      "metadata": {
        "id": "1wrwAYl_YrQ7"
      },
      "execution_count": null,
      "outputs": []
    },
    {
      "cell_type": "code",
      "source": [
        "if a+b == c:\n",
        "  print('Да')\n",
        "else:\n",
        "  print('Нет')"
      ],
      "metadata": {
        "colab": {
          "base_uri": "https://localhost:8080/"
        },
        "id": "w8IXT2ecYZIT",
        "outputId": "b7cc4df4-4321-4e1b-e4cc-ca0e4960d384"
      },
      "execution_count": null,
      "outputs": [
        {
          "output_type": "stream",
          "name": "stdout",
          "text": [
            "Да\n"
          ]
        }
      ]
    },
    {
      "cell_type": "code",
      "source": [
        "if a>b:\n",
        "  print('a больше b')\n",
        "elif a<b:\n",
        "  print('a меньше b')\n",
        "  print('это правильно')\n",
        "else:\n",
        "  print('a равно b')\n",
        "print('код выполнен')"
      ],
      "metadata": {
        "colab": {
          "base_uri": "https://localhost:8080/"
        },
        "id": "m2sQib6ZY_1z",
        "outputId": "177deb4a-a3e8-4789-abad-0f8c80f8028c"
      },
      "execution_count": null,
      "outputs": [
        {
          "output_type": "stream",
          "name": "stdout",
          "text": [
            "a меньше b\n",
            "это правильно\n",
            "код выполнен\n"
          ]
        }
      ]
    },
    {
      "cell_type": "code",
      "source": [
        "#альтернативное выполнение предыдущего кода\n",
        "'''\n",
        "if a>b:\n",
        "  print('a больше b')\n",
        "else:\n",
        "  if a<b:\n",
        "    print('a меньше b')\n",
        "  else:\n",
        "    print('a равно b')\n",
        "'''"
      ],
      "metadata": {
        "id": "7ldoEZMlZRuq"
      },
      "execution_count": null,
      "outputs": []
    },
    {
      "cell_type": "markdown",
      "source": [
        "# Циклы в Python"
      ],
      "metadata": {
        "id": "FHm7S99kaRfU"
      }
    },
    {
      "cell_type": "markdown",
      "source": [
        "## while"
      ],
      "metadata": {
        "id": "H0OxrB2xadc7"
      }
    },
    {
      "cell_type": "markdown",
      "source": [
        "While выполняется до тех пор, пока выполняется условие"
      ],
      "metadata": {
        "id": "-3bvlyBWa3UD"
      }
    },
    {
      "cell_type": "code",
      "source": [
        "a = 0\n",
        "while a <= 3:\n",
        "  print(a)\n",
        "  a += 1 #a = a + 1"
      ],
      "metadata": {
        "colab": {
          "base_uri": "https://localhost:8080/"
        },
        "id": "0q8KfVgkaTib",
        "outputId": "de2f570b-cc57-43a5-e479-d03fcf57dfff"
      },
      "execution_count": null,
      "outputs": [
        {
          "output_type": "stream",
          "name": "stdout",
          "text": [
            "0\n",
            "1\n",
            "2\n",
            "3\n"
          ]
        }
      ]
    },
    {
      "cell_type": "markdown",
      "source": [
        "## Операторы циклов"
      ],
      "metadata": {
        "id": "CgEs_V4Xb8xT"
      }
    },
    {
      "cell_type": "markdown",
      "source": [
        "break - оператор досрочного завершения цикла"
      ],
      "metadata": {
        "id": "GwiyqlOJcB-j"
      }
    },
    {
      "cell_type": "code",
      "source": [
        "a = 5\n",
        "while a>0:\n",
        "  print(a)\n",
        "  if a**2 == 9:\n",
        "    break\n",
        "  a -= 1"
      ],
      "metadata": {
        "colab": {
          "base_uri": "https://localhost:8080/"
        },
        "id": "-vah0GiRcAQx",
        "outputId": "7df3d00d-bd55-4234-99dd-b1a357b106ee"
      },
      "execution_count": null,
      "outputs": [
        {
          "output_type": "stream",
          "name": "stdout",
          "text": [
            "5\n",
            "4\n",
            "3\n"
          ]
        }
      ]
    },
    {
      "cell_type": "code",
      "source": [
        "a = 5\n",
        "while a>0:\n",
        "  if a**2 == 9:\n",
        "    break\n",
        "  print(a)\n",
        "  a -= 1"
      ],
      "metadata": {
        "colab": {
          "base_uri": "https://localhost:8080/"
        },
        "id": "Eiiln8-Ogdac",
        "outputId": "2de0d291-5f36-4dd1-e39a-5cf7772860a8"
      },
      "execution_count": null,
      "outputs": [
        {
          "output_type": "stream",
          "name": "stdout",
          "text": [
            "5\n",
            "4\n"
          ]
        }
      ]
    },
    {
      "cell_type": "markdown",
      "source": [
        "continue - оператор перехода к следующей итерации"
      ],
      "metadata": {
        "id": "bksSnohuceCz"
      }
    },
    {
      "cell_type": "code",
      "source": [
        "a = 5\n",
        "while a>0:\n",
        "  a -= 1\n",
        "  if a**2 == 9:\n",
        "    continue\n",
        "  print(a)"
      ],
      "metadata": {
        "colab": {
          "base_uri": "https://localhost:8080/"
        },
        "id": "arK-oueGcjXb",
        "outputId": "b34f9b2d-3567-4964-a46f-a0690304c4b6"
      },
      "execution_count": null,
      "outputs": [
        {
          "output_type": "stream",
          "name": "stdout",
          "text": [
            "4\n",
            "2\n",
            "1\n",
            "0\n"
          ]
        }
      ]
    },
    {
      "cell_type": "markdown",
      "source": [
        "## Цикл for"
      ],
      "metadata": {
        "id": "3XXWhsmTg0IM"
      }
    },
    {
      "cell_type": "markdown",
      "source": [
        "for - Повторяет действия определенное количество раз"
      ],
      "metadata": {
        "id": "2lBEBqrYhrDl"
      }
    },
    {
      "cell_type": "code",
      "source": [
        "for i in 1,2,3:\n",
        "  print(i + 1)"
      ],
      "metadata": {
        "colab": {
          "base_uri": "https://localhost:8080/"
        },
        "id": "DGEU-GKQg4Yr",
        "outputId": "fdf4cba2-0c15-441a-d0ac-7caac9c7d468"
      },
      "execution_count": null,
      "outputs": [
        {
          "output_type": "stream",
          "name": "stdout",
          "text": [
            "2\n",
            "3\n",
            "4\n"
          ]
        }
      ]
    },
    {
      "cell_type": "markdown",
      "source": [
        "range - функция, возвращающая последовательность от start (вкл) до end (не вкл) с шагом step: (start, end, step)"
      ],
      "metadata": {
        "id": "YZ4uopYoh33d"
      }
    },
    {
      "cell_type": "code",
      "source": [
        "for i in range(1, 4, 1):\n",
        "  print(i + 1)"
      ],
      "metadata": {
        "colab": {
          "base_uri": "https://localhost:8080/"
        },
        "id": "UB6F4rlrh07T",
        "outputId": "04a15fa0-930f-4d32-cc18-8aa0efb4c646"
      },
      "execution_count": null,
      "outputs": [
        {
          "output_type": "stream",
          "name": "stdout",
          "text": [
            "2\n",
            "3\n",
            "4\n"
          ]
        }
      ]
    },
    {
      "cell_type": "code",
      "source": [
        "string_ex = 'кот'\n",
        "for i in string_ex:\n",
        "  print(i)"
      ],
      "metadata": {
        "colab": {
          "base_uri": "https://localhost:8080/"
        },
        "id": "Wx6j55ZiiW1M",
        "outputId": "df59e85b-b3d5-4d19-bcdf-1e47dd7154e3"
      },
      "execution_count": null,
      "outputs": [
        {
          "output_type": "stream",
          "name": "stdout",
          "text": [
            "к\n",
            "о\n",
            "т\n"
          ]
        }
      ]
    },
    {
      "cell_type": "code",
      "source": [
        "list_ex = [[1, 2], [3, 4], [5, 6]]\n",
        "for i in list_ex:\n",
        "  print(i)"
      ],
      "metadata": {
        "colab": {
          "base_uri": "https://localhost:8080/"
        },
        "id": "KQ_QyeGmif8D",
        "outputId": "d742517e-0b08-4ffe-e701-a025c67e8c5f"
      },
      "execution_count": null,
      "outputs": [
        {
          "output_type": "stream",
          "name": "stdout",
          "text": [
            "[1, 2]\n",
            "[3, 4]\n",
            "[5, 6]\n"
          ]
        }
      ]
    },
    {
      "cell_type": "code",
      "source": [],
      "metadata": {
        "id": "JSa76jchitub"
      },
      "execution_count": null,
      "outputs": []
    },
    {
      "cell_type": "markdown",
      "source": [
        "# Домашнее задание"
      ],
      "metadata": {
        "id": "m5ziiEL7i3OU"
      }
    },
    {
      "cell_type": "markdown",
      "source": [
        "1. Задать 3 буквы. Вывести букву, которая стоит дальше всех в алфавите\n",
        "2. Задать число от 1 до 12. Это будет номер месяца. Вывести какое время года включает даный месяц.\n",
        "3. Задать 3 числа. Вывести yes если все числа больше 10. Если условие не выполняется, то вывести числа в порядке убывания.\n",
        "4. Вывести квадрат всех четных чисел до 10.\n",
        "5. Задать список чисел. Вывести сумму всех чисел\n",
        "6. Задать небольшое предложение со знаками пунктуаций. Вывести номера позиций в тексте (номер символа), где находятся запятые ',' и точки '.'"
      ],
      "metadata": {
        "id": "KYKot7bGi-Gs"
      }
    },
    {
      "cell_type": "code",
      "source": [],
      "metadata": {
        "id": "DFXQ7Icbj3Ls"
      },
      "execution_count": null,
      "outputs": []
    }
  ]
}